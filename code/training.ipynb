{
 "cells": [
  {
   "cell_type": "markdown",
   "metadata": {},
   "source": [
    "`In progress`\n",
    "\n",
    "# training.ipynb\n",
    "\n",
    "Training implementation.\n",
    "\n",
    "Author: Connacher Murphy"
   ]
  },
  {
   "cell_type": "code",
   "execution_count": 23,
   "metadata": {},
   "outputs": [],
   "source": [
    "# Libraries\n",
    "import pest_classification as pest\n",
    "\n",
    "import os\n",
    "from sklearn.metrics import accuracy_score\n",
    "import timm\n",
    "import torch\n",
    "import torch.nn as nn\n",
    "from torch.utils.data import DataLoader\n",
    "from tqdm import tqdm\n",
    "from types import SimpleNamespace"
   ]
  },
  {
   "cell_type": "code",
   "execution_count": 24,
   "metadata": {},
   "outputs": [],
   "source": [
    "# Split df into test and training\n",
    "# CM: sampling to speed up execution\n",
    "df = pest.df\n",
    "train_df = df[df[\"set\"] == \"train_set\"].sample(256)"
   ]
  },
  {
   "cell_type": "code",
   "execution_count": 25,
   "metadata": {},
   "outputs": [],
   "source": [
    "# Dataloader\n",
    "config = SimpleNamespace(**{})\n",
    "\n",
    "config.batch_size = 32\n",
    "\n",
    "config.image_dir = os.path.expanduser(\"~/data/ccmt/CCMT Dataset-Augmented\")\n",
    "config.image_size = 256\n",
    "\n",
    "train_dataset = pest.AugmentedCCMT(config, train_df)\n",
    "\n",
    "train_dataloader = DataLoader(\n",
    "    train_dataset,\n",
    "    batch_size=config.batch_size,\n",
    "    shuffle=True,\n",
    "    num_workers=0,\n",
    ")\n",
    "# test_dataloader = DataLoader(\n",
    "#     test_dataset,\n",
    "#     batch_size=config.batch_size,\n",
    "#     shuffle=True,\n",
    "#     num_workers=0,\n",
    "# )\n"
   ]
  },
  {
   "cell_type": "code",
   "execution_count": 26,
   "metadata": {},
   "outputs": [],
   "source": [
    "# config.num_classes = len(pest.crop_classes[\"Maize\"])\n",
    "config.num_classes = 2\n",
    "config.backbone = \"resnet18\"\n",
    "\n",
    "model = timm.create_model(config.backbone, pretrained=True, num_classes=config.num_classes)"
   ]
  },
  {
   "cell_type": "code",
   "execution_count": 27,
   "metadata": {},
   "outputs": [
    {
     "name": "stdout",
     "output_type": "stream",
     "text": [
      "torch.Size([32, 2])\n",
      "tensor([[ 0.0294,  0.0772],\n",
      "        [ 0.0350, -0.0439],\n",
      "        [ 0.0515,  0.1350],\n",
      "        [-0.0292,  0.0332],\n",
      "        [ 0.0566,  0.1282],\n",
      "        [-0.0017,  0.0740],\n",
      "        [-0.0352,  0.0528],\n",
      "        [-0.0035,  0.0223],\n",
      "        [-0.0097,  0.0047],\n",
      "        [-0.0349, -0.0318],\n",
      "        [-0.0222, -0.0822],\n",
      "        [-0.0032, -0.0365],\n",
      "        [-0.0122, -0.0670],\n",
      "        [-0.0273,  0.1073],\n",
      "        [-0.1124, -0.0081],\n",
      "        [-0.1228,  0.1702],\n",
      "        [-0.0266, -0.0468],\n",
      "        [-0.0237, -0.0735],\n",
      "        [-0.0089, -0.0211],\n",
      "        [ 0.0149,  0.0330],\n",
      "        [-0.0027, -0.0157],\n",
      "        [-0.0378, -0.1109],\n",
      "        [-0.0202, -0.0607],\n",
      "        [-0.1529, -0.0546],\n",
      "        [ 0.0069, -0.0062],\n",
      "        [-0.0643,  0.0015],\n",
      "        [-0.0321, -0.0116],\n",
      "        [-0.0165, -0.0272],\n",
      "        [ 0.0037, -0.0613],\n",
      "        [-0.0067, -0.0320],\n",
      "        [-0.0160,  0.0566],\n",
      "        [ 0.1356,  0.0848]], grad_fn=<AddmmBackward0>)\n"
     ]
    }
   ],
   "source": [
    "X = torch.randn(config.batch_size, 3, config.image_size, config.image_size)\n",
    "y = model(X)\n",
    "print(y.shape)\n",
    "print(y)"
   ]
  },
  {
   "cell_type": "code",
   "execution_count": 28,
   "metadata": {},
   "outputs": [],
   "source": [
    "config.criterion = nn.CrossEntropyLoss()"
   ]
  },
  {
   "cell_type": "code",
   "execution_count": 29,
   "metadata": {},
   "outputs": [],
   "source": [
    "config.lr = 1e-4\n",
    "\n",
    "optimizer = torch.optim.Adam(model.parameters(), lr=config.lr, weight_decay=0.0)"
   ]
  },
  {
   "cell_type": "code",
   "execution_count": 30,
   "metadata": {},
   "outputs": [
    {
     "name": "stdout",
     "output_type": "stream",
     "text": [
      "False\n"
     ]
    }
   ],
   "source": [
    "print(torch.cuda.is_available())\n",
    "config.device = torch.device(\"cuda\" if torch.cuda.is_available() else \"cpu\")"
   ]
  },
  {
   "cell_type": "code",
   "execution_count": 31,
   "metadata": {},
   "outputs": [],
   "source": [
    "model.to(config.device)\n",
    "\n",
    "def calculate_metric(y, y_pred):\n",
    "  metric = accuracy_score(y, y_pred)\n",
    "  return metric\n",
    "\n",
    "def train(dataloader, model, optimizer, config):\n",
    "    for epoch in range(config.num_epochs):\n",
    "        print(f\"Epoch {epoch + 1}\")\n",
    "        epoch_loss = pest.train_epoch(dataloader, model, optimizer, config)\n",
    "\n",
    "        # Calculate accuracy\n",
    "        for i, (images, labels) in enumerate(dataloader):\n",
    "            images = images.to(config.device)\n",
    "            labels = labels.to(config.device)\n",
    "\n",
    "            # Forward pass\n",
    "            outputs = model(images)\n",
    "            labels_pred = torch.argmax(outputs, dim=1)\n",
    "            \n",
    "            accuracy = accuracy_score(labels, labels_pred)\n",
    "            \n",
    "            print(f\"Batch {i} accuracy ={accuracy}\")\n",
    "            \n",
    "\n",
    "        print(f\"Epoch loss = {epoch_loss}\")"
   ]
  },
  {
   "cell_type": "code",
   "execution_count": 32,
   "metadata": {},
   "outputs": [],
   "source": [
    "config.num_epochs = 3"
   ]
  },
  {
   "cell_type": "code",
   "execution_count": 33,
   "metadata": {},
   "outputs": [
    {
     "name": "stdout",
     "output_type": "stream",
     "text": [
      "Epoch 1\n"
     ]
    },
    {
     "name": "stderr",
     "output_type": "stream",
     "text": [
      "100%|██████████| 8/8 [00:24<00:00,  3.09s/it]\n"
     ]
    },
    {
     "name": "stdout",
     "output_type": "stream",
     "text": [
      "Batch 0 accuracy =0.96875\n",
      "Batch 1 accuracy =0.9375\n",
      "Batch 2 accuracy =0.9375\n",
      "Batch 3 accuracy =0.84375\n",
      "Batch 4 accuracy =0.875\n",
      "Batch 5 accuracy =0.875\n",
      "Batch 6 accuracy =0.875\n",
      "Batch 7 accuracy =0.875\n",
      "Epoch loss = 0.677024245262146\n",
      "Epoch 2\n"
     ]
    },
    {
     "name": "stderr",
     "output_type": "stream",
     "text": [
      "100%|██████████| 8/8 [00:24<00:00,  3.09s/it]\n"
     ]
    },
    {
     "name": "stdout",
     "output_type": "stream",
     "text": [
      "Batch 0 accuracy =1.0\n",
      "Batch 1 accuracy =1.0\n",
      "Batch 2 accuracy =1.0\n",
      "Batch 3 accuracy =1.0\n",
      "Batch 4 accuracy =1.0\n",
      "Batch 5 accuracy =1.0\n",
      "Batch 6 accuracy =1.0\n",
      "Batch 7 accuracy =1.0\n",
      "Epoch loss = 0.5539707988500595\n",
      "Epoch 3\n"
     ]
    },
    {
     "name": "stderr",
     "output_type": "stream",
     "text": [
      "100%|██████████| 8/8 [00:24<00:00,  3.07s/it]\n"
     ]
    },
    {
     "name": "stdout",
     "output_type": "stream",
     "text": [
      "Batch 0 accuracy =1.0\n",
      "Batch 1 accuracy =1.0\n",
      "Batch 2 accuracy =1.0\n",
      "Batch 3 accuracy =1.0\n",
      "Batch 4 accuracy =1.0\n",
      "Batch 5 accuracy =1.0\n",
      "Batch 6 accuracy =1.0\n",
      "Batch 7 accuracy =1.0\n",
      "Epoch loss = 0.4574759565293789\n"
     ]
    }
   ],
   "source": [
    "train(train_dataloader, model, optimizer, config)"
   ]
  },
  {
   "cell_type": "code",
   "execution_count": null,
   "metadata": {},
   "outputs": [],
   "source": []
  },
  {
   "cell_type": "code",
   "execution_count": null,
   "metadata": {},
   "outputs": [],
   "source": []
  }
 ],
 "metadata": {
  "kernelspec": {
   "display_name": "pest-classification-3JmtqzHf",
   "language": "python",
   "name": "python3"
  },
  "language_info": {
   "codemirror_mode": {
    "name": "ipython",
    "version": 3
   },
   "file_extension": ".py",
   "mimetype": "text/x-python",
   "name": "python",
   "nbconvert_exporter": "python",
   "pygments_lexer": "ipython3",
   "version": "3.10.13"
  }
 },
 "nbformat": 4,
 "nbformat_minor": 2
}
