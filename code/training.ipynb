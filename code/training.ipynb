{
 "cells": [
  {
   "cell_type": "markdown",
   "metadata": {},
   "source": [
    "# training.ipynb\n",
    "\n",
    "Training implementation.\n",
    "\n",
    "Author: Connacher Murphy"
   ]
  },
  {
   "cell_type": "code",
   "execution_count": 1,
   "metadata": {},
   "outputs": [],
   "source": [
    "# Libraries\n",
    "import pest_classification as pest\n",
    "\n",
    "import numpy as np\n",
    "import os\n",
    "import random\n",
    "from sklearn.model_selection import StratifiedKFold\n",
    "import timm\n",
    "import torch\n",
    "import torch.optim as optim\n",
    "import torch.nn as nn\n",
    "from torch.utils.data import DataLoader\n",
    "from types import SimpleNamespace"
   ]
  },
  {
   "cell_type": "code",
   "execution_count": 2,
   "metadata": {},
   "outputs": [],
   "source": [
    "def set_seed(seed=1234):\n",
    "    random.seed(seed)\n",
    "    os.environ[\"PYTHONHASHSEED\"] = str(seed)\n",
    "    np.random.seed(seed)\n",
    "    \n",
    "    # PyTorch seed\n",
    "    torch.manual_seed(seed)\n",
    "    \n",
    "    # CUDA 1 GPU seed\n",
    "    torch.cuda.manual_seed(seed)\n",
    "    \n",
    "    # CUDA multi-GPU seed\n",
    "    torch.cuda.manual_seed_all(seed)\n",
    "    \n",
    "    # Force deterministic operations in cudnn\n",
    "    torch.backends.cudnn.deterministic = True \n",
    "    \n",
    "    # Disable cudnn auto-tuner\n",
    "    torch.backends.cudnn.benchmark = False"
   ]
  },
  {
   "cell_type": "code",
   "execution_count": 3,
   "metadata": {},
   "outputs": [],
   "source": [
    "# Set random seed\n",
    "set_seed(456)"
   ]
  },
  {
   "cell_type": "code",
   "execution_count": 4,
   "metadata": {},
   "outputs": [],
   "source": [
    "# Grab training observations from images df\n",
    "# CM: sampling to speed up execution\n",
    "df_all = pest.df\n",
    "df = df_all[df_all[\"set\"] == \"train_set\"].sample(2048)\n",
    "df = df.reset_index(drop=True)"
   ]
  },
  {
   "cell_type": "code",
   "execution_count": 5,
   "metadata": {},
   "outputs": [],
   "source": [
    "# Dataset and dataloader\n",
    "config = SimpleNamespace(**{})\n",
    "\n",
    "config.batch_size = 64\n",
    "\n",
    "config.image_dir = os.path.expanduser(\"~/data/ccmt/CCMT Dataset-Augmented\")\n",
    "config.image_size = 256"
   ]
  },
  {
   "cell_type": "code",
   "execution_count": 6,
   "metadata": {},
   "outputs": [],
   "source": [
    "# Specify architecture parameters\n",
    "config.num_classes = len(pest.crop_descriptions[\"Maize\"])\n",
    "config.backbone = \"resnet18\"\n",
    "\n",
    "# Specify optimizer parameters\n",
    "config.lr = 1e-4\n",
    "config.num_epochs = 3"
   ]
  },
  {
   "cell_type": "code",
   "execution_count": 7,
   "metadata": {},
   "outputs": [
    {
     "name": "stdout",
     "output_type": "stream",
     "text": [
      "False\n"
     ]
    }
   ],
   "source": [
    "# Select GPU if available\n",
    "print(torch.cuda.is_available())\n",
    "config.device = torch.device(\"cuda\" if torch.cuda.is_available() else \"cpu\")"
   ]
  },
  {
   "cell_type": "code",
   "execution_count": 8,
   "metadata": {},
   "outputs": [],
   "source": [
    "# Training function\n",
    "def train(train_dataloader, model, optimizer, config):\n",
    "    for epoch in range(config.num_epochs):\n",
    "        print(f\"Epoch {epoch + 1}\")\n",
    "        \n",
    "        model, train_loss, train_accuracy = pest.train_epoch(\n",
    "            train_dataloader, model, optimizer, config\n",
    "        )\n",
    "        \n",
    "        print(f\"Training: loss = {train_loss}, accuracy = {train_accuracy}\")\n",
    "    \n",
    "    return model"
   ]
  },
  {
   "cell_type": "code",
   "execution_count": 9,
   "metadata": {},
   "outputs": [
    {
     "name": "stdout",
     "output_type": "stream",
     "text": [
      "Epoch 1\n"
     ]
    },
    {
     "name": "stderr",
     "output_type": "stream",
     "text": [
      "100%|██████████| 32/32 [03:19<00:00,  6.22s/it]\n"
     ]
    },
    {
     "name": "stdout",
     "output_type": "stream",
     "text": [
      "Training: loss = 1.8295834138989449, accuracy = 0.31298828125\n",
      "Epoch 2\n"
     ]
    },
    {
     "name": "stderr",
     "output_type": "stream",
     "text": [
      "100%|██████████| 32/32 [03:14<00:00,  6.08s/it]\n"
     ]
    },
    {
     "name": "stdout",
     "output_type": "stream",
     "text": [
      "Training: loss = 1.6284552477300167, accuracy = 0.48583984375\n",
      "Epoch 3\n"
     ]
    },
    {
     "name": "stderr",
     "output_type": "stream",
     "text": [
      "100%|██████████| 32/32 [03:18<00:00,  6.19s/it]"
     ]
    },
    {
     "name": "stdout",
     "output_type": "stream",
     "text": [
      "Training: loss = 1.3925710543990135, accuracy = 0.5947265625\n",
      "\n",
      "\n"
     ]
    },
    {
     "name": "stderr",
     "output_type": "stream",
     "text": [
      "\n"
     ]
    }
   ],
   "source": [
    "# Create df and datasets\n",
    "train_df = df.reset_index(drop=True)\n",
    "train_dataset = pest.AugmentedCCMT(config, train_df)\n",
    "\n",
    "# Dataloaders\n",
    "train_dataloader = DataLoader(\n",
    "    train_dataset, batch_size=config.batch_size, shuffle=True, num_workers=0\n",
    ")\n",
    "\n",
    "# Initialize (pre-trained) model\n",
    "model = timm.create_model(\n",
    "    config.backbone, pretrained=True, num_classes=config.num_classes\n",
    ")\n",
    "model.to(config.device)\n",
    "\n",
    "# Specify loss function (CM: move this to outer loop?)\n",
    "config.criterion = nn.CrossEntropyLoss()\n",
    "\n",
    "# Initialize optimizer\n",
    "optimizer = optim.Adam(model.parameters(), lr=config.lr, weight_decay=0.0)\n",
    "\n",
    "# Call training function\n",
    "model = train(train_dataloader, model, optimizer, config)\n",
    "\n",
    "print(\"\\n\")"
   ]
  },
  {
   "cell_type": "code",
   "execution_count": 10,
   "metadata": {},
   "outputs": [],
   "source": [
    "# Save model\n",
    "torch.save(model.state_dict(), \"model.pth\")"
   ]
  }
 ],
 "metadata": {
  "kernelspec": {
   "display_name": "pest-classification-3JmtqzHf",
   "language": "python",
   "name": "python3"
  },
  "language_info": {
   "codemirror_mode": {
    "name": "ipython",
    "version": 3
   },
   "file_extension": ".py",
   "mimetype": "text/x-python",
   "name": "python",
   "nbconvert_exporter": "python",
   "pygments_lexer": "ipython3",
   "version": "3.10.13"
  }
 },
 "nbformat": 4,
 "nbformat_minor": 2
}
