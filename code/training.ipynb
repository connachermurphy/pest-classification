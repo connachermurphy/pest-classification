{
 "cells": [
  {
   "cell_type": "markdown",
   "metadata": {},
   "source": [
    "# training.ipynb\n",
    "\n",
    "Training implementation.\n",
    "\n",
    "Author: Connacher Murphy"
   ]
  },
  {
   "cell_type": "code",
   "execution_count": 18,
   "metadata": {},
   "outputs": [],
   "source": [
    "# Libraries\n",
    "import pest_classification as pest\n",
    "\n",
    "# import os\n",
    "# from sklearn.metrics import accuracy_score\n",
    "import timm\n",
    "import torch\n",
    "import torch.nn as nn\n",
    "from torch.utils.data import DataLoader\n",
    "from types import SimpleNamespace"
   ]
  },
  {
   "cell_type": "code",
   "execution_count": 2,
   "metadata": {},
   "outputs": [],
   "source": [
    "# Split df into test and training\n",
    "df = pest.df\n",
    "test_df = df[df[\"set\"] == \"test_set\"]\n",
    "train_df = df[df[\"set\"] == \"train_set\"]"
   ]
  },
  {
   "cell_type": "code",
   "execution_count": 3,
   "metadata": {},
   "outputs": [],
   "source": [
    "# Dataloader\n",
    "config = SimpleNamespace(**{})\n",
    "\n",
    "config.batch_size = 32\n",
    "\n",
    "config.image_dir = os.path.expanduser(\"~/data/ccmt/CCMT Dataset-Augmented\")\n",
    "config.image_size = 256\n",
    "\n",
    "train_dataset = pest.AugmentedCCMT(config, train_df)\n",
    "test_dataset = pest.AugmentedCCMT(config, test_df)\n",
    "\n",
    "train_dataloader = DataLoader(\n",
    "    train_dataset,\n",
    "    batch_size=config.batch_size,\n",
    "    shuffle=True,\n",
    "    num_workers=0,\n",
    ")\n",
    "test_dataloader = DataLoader(\n",
    "    test_dataset,\n",
    "    batch_size=config.batch_size,\n",
    "    shuffle=True,\n",
    "    num_workers=0,\n",
    ")\n"
   ]
  },
  {
   "cell_type": "code",
   "execution_count": 4,
   "metadata": {},
   "outputs": [],
   "source": [
    "# config.num_classes = len(pest.crop_classes[\"Maize\"])\n",
    "config.num_classes = 2\n",
    "config.backbone = \"resnet18\"\n",
    "\n",
    "model = timm.create_model(config.backbone, pretrained=True, num_classes=config.num_classes)"
   ]
  },
  {
   "cell_type": "code",
   "execution_count": 5,
   "metadata": {},
   "outputs": [
    {
     "name": "stdout",
     "output_type": "stream",
     "text": [
      "torch.Size([32, 2])\n",
      "tensor([[ 0.0837,  0.1922],\n",
      "        [ 0.1555,  0.2691],\n",
      "        [ 0.2127,  0.2239],\n",
      "        [ 0.1083,  0.1553],\n",
      "        [ 0.0760,  0.1259],\n",
      "        [ 0.0967,  0.1038],\n",
      "        [ 0.0200,  0.2212],\n",
      "        [ 0.1437,  0.2937],\n",
      "        [-0.0025,  0.0244],\n",
      "        [ 0.1894,  0.1958],\n",
      "        [ 0.0890,  0.1952],\n",
      "        [ 0.0943,  0.2816],\n",
      "        [ 0.0724,  0.2766],\n",
      "        [ 0.0176,  0.0676],\n",
      "        [ 0.1559,  0.1034],\n",
      "        [ 0.1492,  0.1789],\n",
      "        [ 0.2803,  0.2870],\n",
      "        [ 0.1225,  0.1178],\n",
      "        [ 0.1088,  0.1622],\n",
      "        [ 0.1486,  0.2833],\n",
      "        [ 0.0809,  0.2048],\n",
      "        [-0.0051,  0.1223],\n",
      "        [ 0.1950,  0.1478],\n",
      "        [-0.0695,  0.2053],\n",
      "        [ 0.1435,  0.1495],\n",
      "        [ 0.0272,  0.2351],\n",
      "        [ 0.0989,  0.1290],\n",
      "        [ 0.1057,  0.0906],\n",
      "        [ 0.2808,  0.1124],\n",
      "        [ 0.1429,  0.0881],\n",
      "        [-0.0670,  0.0997],\n",
      "        [ 0.1567,  0.1621]], grad_fn=<AddmmBackward0>)\n"
     ]
    }
   ],
   "source": [
    "X = torch.randn(config.batch_size, 3, config.image_size, config.image_size)\n",
    "y = model(X)\n",
    "print(y.shape)\n",
    "print(y)"
   ]
  },
  {
   "cell_type": "code",
   "execution_count": 6,
   "metadata": {},
   "outputs": [],
   "source": [
    "config.criterion = nn.CrossEntropyLoss()"
   ]
  },
  {
   "cell_type": "code",
   "execution_count": 7,
   "metadata": {},
   "outputs": [],
   "source": [
    "config.lr = 1e-4\n",
    "\n",
    "optimizer = torch.optim.Adam(model.parameters(), lr=config.lr, weight_decay=0.0)"
   ]
  },
  {
   "cell_type": "code",
   "execution_count": 9,
   "metadata": {},
   "outputs": [
    {
     "data": {
      "text/plain": [
       "False"
      ]
     },
     "execution_count": 9,
     "metadata": {},
     "output_type": "execute_result"
    }
   ],
   "source": [
    "torch.cuda.is_available()"
   ]
  },
  {
   "cell_type": "code",
   "execution_count": 10,
   "metadata": {},
   "outputs": [],
   "source": [
    "config.device = torch.device(\"cuda\" if torch.cuda.is_available() else \"cpu\")"
   ]
  },
  {
   "cell_type": "code",
   "execution_count": 12,
   "metadata": {},
   "outputs": [
    {
     "name": "stdout",
     "output_type": "stream",
     "text": [
      "<enumerate object at 0x7519b0806980>\n",
      "torch.Size([32, 3, 256, 256])\n",
      "torch.Size([32])\n"
     ]
    },
    {
     "data": {
      "text/plain": [
       "0.7097724676132202"
      ]
     },
     "execution_count": 12,
     "metadata": {},
     "output_type": "execute_result"
    }
   ],
   "source": [
    "model.to(config.device)\n",
    "\n",
    "def train(dataloader, model, optimizer, config):\n",
    "    for epoch in range(config.num_epochs):\n",
    "        print(f\"Epoch {epoch + 1}\")\n",
    "        epoch_loss = pest.train_epoch(dataloader, model, optimizer, config)\n",
    "        print(epoch_loss)"
   ]
  },
  {
   "cell_type": "code",
   "execution_count": 14,
   "metadata": {},
   "outputs": [],
   "source": [
    "config.num_epochs = 3"
   ]
  },
  {
   "cell_type": "code",
   "execution_count": 15,
   "metadata": {},
   "outputs": [
    {
     "name": "stdout",
     "output_type": "stream",
     "text": [
      "Epoch 1\n",
      "<enumerate object at 0x7519b04625c0>\n",
      "torch.Size([32, 3, 256, 256])\n",
      "torch.Size([32])\n",
      "0.7061287760734558\n",
      "Epoch 2\n",
      "<enumerate object at 0x7519b04625c0>\n",
      "torch.Size([32, 3, 256, 256])\n",
      "torch.Size([32])\n",
      "0.6771159768104553\n",
      "Epoch 3\n",
      "<enumerate object at 0x7519b04625c0>\n",
      "torch.Size([32, 3, 256, 256])\n",
      "torch.Size([32])\n",
      "0.6556016206741333\n"
     ]
    }
   ],
   "source": [
    "train(train_dataloader, model, optimizer, config)"
   ]
  }
 ],
 "metadata": {
  "kernelspec": {
   "display_name": "pest-classification-3JmtqzHf",
   "language": "python",
   "name": "python3"
  },
  "language_info": {
   "codemirror_mode": {
    "name": "ipython",
    "version": 3
   },
   "file_extension": ".py",
   "mimetype": "text/x-python",
   "name": "python",
   "nbconvert_exporter": "python",
   "pygments_lexer": "ipython3",
   "version": "3.10.12"
  }
 },
 "nbformat": 4,
 "nbformat_minor": 2
}
