{
 "cells": [
  {
   "cell_type": "markdown",
   "metadata": {},
   "source": [
    "# simple_training.ipynb\n",
    "\n",
    "Simple training implementation.\n",
    "\n",
    "Author: Connacher Murphy"
   ]
  },
  {
   "cell_type": "code",
   "execution_count": 1,
   "metadata": {},
   "outputs": [
    {
     "name": "stderr",
     "output_type": "stream",
     "text": [
      "/home/connachermurphy/.local/share/virtualenvs/pest-classification-3JmtqzHf/lib/python3.10/site-packages/tqdm/auto.py:21: TqdmWarning: IProgress not found. Please update jupyter and ipywidgets. See https://ipywidgets.readthedocs.io/en/stable/user_install.html\n",
      "  from .autonotebook import tqdm as notebook_tqdm\n"
     ]
    }
   ],
   "source": [
    "# Libraries\n",
    "import pest_classification as pest\n",
    "\n",
    "import numpy as np\n",
    "import os\n",
    "from sklearn.metrics import accuracy_score\n",
    "import timm\n",
    "import torch\n",
    "import torch.nn as nn\n",
    "from torch.utils.data import DataLoader\n",
    "from types import SimpleNamespace"
   ]
  },
  {
   "cell_type": "code",
   "execution_count": 2,
   "metadata": {},
   "outputs": [],
   "source": [
    "# Split df into test and training\n",
    "df = pest.df\n",
    "test_df = df[df[\"set\"] == \"test_set\"]\n",
    "train_df = df[df[\"set\"] == \"train_set\"]"
   ]
  },
  {
   "cell_type": "code",
   "execution_count": 3,
   "metadata": {},
   "outputs": [],
   "source": [
    "# Dataloader\n",
    "config = SimpleNamespace(**{})\n",
    "\n",
    "config.batch_size = 32\n",
    "\n",
    "config.image_dir = os.path.expanduser(\"~/data/ccmt/CCMT Dataset-Augmented\")\n",
    "config.image_size = 256\n",
    "\n",
    "train_dataset = pest.AugmentedCCMT(config, train_df)\n",
    "\n",
    "train_dataloader = DataLoader(\n",
    "    train_dataset,\n",
    "    batch_size=config.batch_size,\n",
    "    shuffle=True,\n",
    "    num_workers=0,\n",
    ")"
   ]
  },
  {
   "cell_type": "code",
   "execution_count": 4,
   "metadata": {},
   "outputs": [],
   "source": [
    "config.num_classes = 2\n",
    "config.backbone = \"resnet18\"\n",
    "\n",
    "model = timm.create_model(config.backbone, pretrained=True, num_classes=config.num_classes)"
   ]
  },
  {
   "cell_type": "code",
   "execution_count": 5,
   "metadata": {},
   "outputs": [
    {
     "name": "stdout",
     "output_type": "stream",
     "text": [
      "torch.Size([32, 2])\n",
      "tensor([[ 0.1885,  0.0836],\n",
      "        [ 0.1114, -0.1112],\n",
      "        [ 0.1331, -0.1206],\n",
      "        [ 0.0235, -0.0378],\n",
      "        [ 0.1708,  0.0206],\n",
      "        [ 0.0974, -0.0513],\n",
      "        [ 0.1918, -0.1082],\n",
      "        [ 0.0855,  0.0058],\n",
      "        [ 0.0763, -0.0084],\n",
      "        [ 0.1577, -0.0373],\n",
      "        [-0.0134, -0.0805],\n",
      "        [ 0.0147, -0.1591],\n",
      "        [ 0.1338, -0.1618],\n",
      "        [ 0.1163, -0.0992],\n",
      "        [ 0.1209,  0.0740],\n",
      "        [ 0.1184, -0.1952],\n",
      "        [ 0.0310,  0.0178],\n",
      "        [-0.0087, -0.1515],\n",
      "        [ 0.0395, -0.0114],\n",
      "        [ 0.0075,  0.0390],\n",
      "        [ 0.0196, -0.1012],\n",
      "        [ 0.1361, -0.0273],\n",
      "        [ 0.0822, -0.0033],\n",
      "        [ 0.3051,  0.0308],\n",
      "        [-0.0761, -0.0743],\n",
      "        [ 0.1422, -0.1737],\n",
      "        [ 0.0059, -0.0868],\n",
      "        [ 0.1244, -0.0838],\n",
      "        [ 0.1241,  0.1128],\n",
      "        [ 0.2374, -0.0477],\n",
      "        [ 0.0681,  0.0084],\n",
      "        [ 0.0992, -0.0552]], grad_fn=<AddmmBackward0>)\n"
     ]
    }
   ],
   "source": [
    "X = torch.randn(config.batch_size, 3, config.image_size, config.image_size)\n",
    "y = model(X)\n",
    "print(y.shape)\n",
    "print(y)"
   ]
  },
  {
   "cell_type": "code",
   "execution_count": 6,
   "metadata": {},
   "outputs": [],
   "source": [
    "# Hyperparameters\n",
    "config.criterion = nn.CrossEntropyLoss()\n",
    "config.lr = 1e-4\n",
    "optimizer = torch.optim.Adam(model.parameters(), lr=config.lr, weight_decay=0.0)"
   ]
  },
  {
   "cell_type": "code",
   "execution_count": 7,
   "metadata": {},
   "outputs": [
    {
     "data": {
      "text/plain": [
       "False"
      ]
     },
     "execution_count": 7,
     "metadata": {},
     "output_type": "execute_result"
    }
   ],
   "source": [
    "# Use GPU if available\n",
    "config.device = torch.device(\"cuda\" if torch.cuda.is_available() else \"cpu\")\n",
    "torch.cuda.is_available()"
   ]
  },
  {
   "cell_type": "code",
   "execution_count": 8,
   "metadata": {},
   "outputs": [
    {
     "name": "stderr",
     "output_type": "stream",
     "text": [
      "100%|██████████| 608/608 [26:52<00:00,  2.65s/it]\n"
     ]
    },
    {
     "data": {
      "text/plain": [
       "0.046059526902880815"
      ]
     },
     "execution_count": 8,
     "metadata": {},
     "output_type": "execute_result"
    }
   ],
   "source": [
    "model.to(config.device)\n",
    "\n",
    "pest.train_epoch(train_dataloader, model, optimizer, config)"
   ]
  }
 ],
 "metadata": {
  "kernelspec": {
   "display_name": "pest-classification-3JmtqzHf",
   "language": "python",
   "name": "python3"
  },
  "language_info": {
   "codemirror_mode": {
    "name": "ipython",
    "version": 3
   },
   "file_extension": ".py",
   "mimetype": "text/x-python",
   "name": "python",
   "nbconvert_exporter": "python",
   "pygments_lexer": "ipython3",
   "version": "3.10.12"
  }
 },
 "nbformat": 4,
 "nbformat_minor": 2
}
