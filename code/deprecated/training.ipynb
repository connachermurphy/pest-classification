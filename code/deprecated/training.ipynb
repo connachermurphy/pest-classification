{
 "cells": [
  {
   "cell_type": "markdown",
   "metadata": {},
   "source": [
    "# training.ipynb\n",
    "\n",
    "Training implementation.\n",
    "\n",
    "Author: Connacher Murphy"
   ]
  },
  {
   "cell_type": "code",
   "execution_count": 1,
   "metadata": {},
   "outputs": [],
   "source": [
    "# Libraries\n",
    "import pest_classification as pest\n",
    "\n",
    "import json\n",
    "import matplotlib.pyplot as plt\n",
    "import numpy as np\n",
    "import os\n",
    "import pickle\n",
    "import random\n",
    "import timm\n",
    "import torch\n",
    "import torch.optim as optim\n",
    "import torch.nn as nn\n",
    "from torch.utils.data import DataLoader\n",
    "from types import SimpleNamespace"
   ]
  },
  {
   "cell_type": "code",
   "execution_count": 2,
   "metadata": {},
   "outputs": [],
   "source": [
    "# Use a super small sample for quick testing\n",
    "quickly = True"
   ]
  },
  {
   "cell_type": "code",
   "execution_count": 3,
   "metadata": {},
   "outputs": [],
   "source": [
    "def set_seed(seed=1234):\n",
    "    random.seed(seed)\n",
    "    os.environ[\"PYTHONHASHSEED\"] = str(seed)\n",
    "    np.random.seed(seed)\n",
    "    \n",
    "    # PyTorch seed\n",
    "    torch.manual_seed(seed)\n",
    "    \n",
    "    # CUDA 1 GPU seed\n",
    "    torch.cuda.manual_seed(seed)\n",
    "    \n",
    "    # CUDA multi-GPU seed\n",
    "    torch.cuda.manual_seed_all(seed)\n",
    "    \n",
    "    # Force deterministic operations in cudnn\n",
    "    torch.backends.cudnn.deterministic = True\n",
    "    \n",
    "    # Disable cudnn auto-tuner\n",
    "    torch.backends.cudnn.benchmark = False"
   ]
  },
  {
   "cell_type": "code",
   "execution_count": 4,
   "metadata": {},
   "outputs": [],
   "source": [
    "# Set random seed\n",
    "set_seed(456)"
   ]
  },
  {
   "cell_type": "code",
   "execution_count": 5,
   "metadata": {},
   "outputs": [],
   "source": [
    "# Configuration\n",
    "config = SimpleNamespace(**{})\n",
    "\n",
    "# Grab training observations from images df\n",
    "# CM: sampling to speed up execution\n",
    "df_all = pest.df\n",
    "\n",
    "if quickly:  # select small sample\n",
    "    config.total_size = 256\n",
    "    config.batch_size = 32\n",
    "    config.num_epochs = 2\n",
    "else:  # \"full\" sample\n",
    "    config.total_size = 2048\n",
    "    config.batch_size = 64\n",
    "    config.num_epochs = 4\n",
    "\n",
    "df = df_all[df_all[\"set\"] == \"train\"].sample(config.total_size)\n",
    "df = df.reset_index(drop=True)"
   ]
  },
  {
   "cell_type": "code",
   "execution_count": 6,
   "metadata": {},
   "outputs": [],
   "source": [
    "# Dataset and dataloader\n",
    "# config.image_dir = os.path.expanduser(\"~/data/ccmt/CCMT Dataset-Augmented\")\n",
    "# config.image_size = 256"
   ]
  },
  {
   "cell_type": "code",
   "execution_count": 7,
   "metadata": {},
   "outputs": [],
   "source": [
    "# Specify architecture parameters\n",
    "config.num_classes = len(pest.crop_descriptions[\"Maize\"])\n",
    "config.backbone = \"resnet18\"\n",
    "\n",
    "# Specify optimizer parameters\n",
    "config.lr = 1e-4"
   ]
  },
  {
   "cell_type": "code",
   "execution_count": 8,
   "metadata": {},
   "outputs": [
    {
     "name": "stdout",
     "output_type": "stream",
     "text": [
      "False\n"
     ]
    }
   ],
   "source": [
    "# Select GPU if available\n",
    "print(torch.cuda.is_available())\n",
    "config.device = torch.device(\"cuda\" if torch.cuda.is_available() else \"cpu\")"
   ]
  },
  {
   "cell_type": "code",
   "execution_count": 9,
   "metadata": {},
   "outputs": [],
   "source": [
    "# Training function\n",
    "def train(train_dataloader, model, optimizer, config):\n",
    "    loss_history = []\n",
    "    accuracy_history = []\n",
    "    \n",
    "    for epoch in range(config.num_epochs):\n",
    "        print(f\"Epoch {epoch + 1}\")\n",
    "        \n",
    "        model, train_loss, train_accuracy, train_tab = pest.train_epoch(\n",
    "            train_dataloader, model, optimizer, config\n",
    "        )\n",
    "        \n",
    "        loss_history.append(train_loss)\n",
    "        accuracy_history.append(train_accuracy)\n",
    "\n",
    "        train_tab_sum = np.sum(train_tab, axis=1, keepdims=True)\n",
    "\n",
    "        print(f\"Training: loss = {train_loss}, accuracy = {train_accuracy}\")\n",
    "        print(\"Label versus predicted label tabulation:\")\n",
    "        print(np.round(train_tab / train_tab_sum, 2))\n",
    "        print(train_tab_sum)\n",
    "        print(\"\\n\")\n",
    "    \n",
    "    return model, loss_history, accuracy_history"
   ]
  },
  {
   "cell_type": "code",
   "execution_count": 10,
   "metadata": {},
   "outputs": [
    {
     "name": "stdout",
     "output_type": "stream",
     "text": [
      "Epoch 1\n"
     ]
    },
    {
     "name": "stderr",
     "output_type": "stream",
     "text": [
      "100%|██████████| 8/8 [00:11<00:00,  1.48s/it]\n"
     ]
    },
    {
     "name": "stdout",
     "output_type": "stream",
     "text": [
      "Training: loss = 1.915178507566452, accuracy = 0.21875\n",
      "Label versus predicted label tabulation:\n",
      "[[0.   0.   0.   0.4  0.27 0.   0.33]\n",
      " [0.   0.   0.   0.3  0.47 0.   0.23]\n",
      " [0.1  0.   0.   0.2  0.2  0.   0.5 ]\n",
      " [0.   0.02 0.   0.33 0.35 0.   0.29]\n",
      " [0.   0.   0.   0.17 0.64 0.   0.19]\n",
      " [0.   0.   0.   0.08 0.69 0.   0.22]\n",
      " [0.   0.   0.   0.25 0.5  0.   0.25]]\n",
      "[[15.]\n",
      " [30.]\n",
      " [10.]\n",
      " [48.]\n",
      " [42.]\n",
      " [59.]\n",
      " [52.]]\n",
      "\n",
      "\n",
      "Epoch 2\n"
     ]
    },
    {
     "name": "stderr",
     "output_type": "stream",
     "text": [
      "100%|██████████| 8/8 [00:13<00:00,  1.63s/it]"
     ]
    },
    {
     "name": "stdout",
     "output_type": "stream",
     "text": [
      "Training: loss = 1.868524044752121, accuracy = 0.29296875\n",
      "Label versus predicted label tabulation:\n",
      "[[0.   0.   0.   0.4  0.4  0.   0.2 ]\n",
      " [0.   0.   0.   0.2  0.37 0.   0.43]\n",
      " [0.   0.   0.   0.2  0.1  0.   0.7 ]\n",
      " [0.   0.02 0.   0.5  0.23 0.   0.25]\n",
      " [0.   0.   0.   0.12 0.64 0.   0.24]\n",
      " [0.   0.   0.   0.2  0.47 0.   0.32]\n",
      " [0.   0.   0.   0.1  0.44 0.   0.46]]\n",
      "[[15.]\n",
      " [30.]\n",
      " [10.]\n",
      " [48.]\n",
      " [42.]\n",
      " [59.]\n",
      " [52.]]\n",
      "\n",
      "\n",
      "\n",
      "\n"
     ]
    },
    {
     "name": "stderr",
     "output_type": "stream",
     "text": [
      "\n"
     ]
    }
   ],
   "source": [
    "# Create df and datasets\n",
    "train_df = df.reset_index(drop=True)\n",
    "train_dataset = pest.AugmentedCCMT(config, train_df, transform=pest.transform_train)\n",
    "\n",
    "# Dataloaders\n",
    "train_dataloader = DataLoader(\n",
    "    train_dataset, batch_size=config.batch_size, shuffle=True, num_workers=0\n",
    ")\n",
    "\n",
    "# Initialize (pre-trained) model\n",
    "model = timm.create_model(\n",
    "    config.backbone, pretrained=True, num_classes=config.num_classes\n",
    ")\n",
    "model.to(config.device)\n",
    "\n",
    "# Specify loss function (CM: move this to outer loop?)\n",
    "config.criterion = nn.CrossEntropyLoss()\n",
    "\n",
    "# Initialize optimizer\n",
    "optimizer = optim.Adam(model.parameters(), lr=config.lr, weight_decay=0.0)\n",
    "\n",
    "# Call training function\n",
    "model, loss_history, accuracy_history = train(train_dataloader, model, optimizer, config)\n",
    "\n",
    "print(\"\\n\")"
   ]
  },
  {
   "cell_type": "code",
   "execution_count": 11,
   "metadata": {},
   "outputs": [
    {
     "data": {
      "image/png": "[encoded data removed]",
      "text/plain": [
       "<Figure size 640x480 with 1 Axes>"
      ]
     },
     "metadata": {},
     "output_type": "display_data"
    },
    {
     "data": {
      "image/png": "[encoded data removed]",
      "text/plain": [
       "<Figure size 640x480 with 1 Axes>"
      ]
     },
     "metadata": {},
     "output_type": "display_data"
    }
   ],
   "source": [
    "# Summary plots\n",
    "plt.plot(loss_history)\n",
    "plt.xlabel(\"Epoch\")\n",
    "plt.ylabel(\"Loss\")\n",
    "plt.show()\n",
    "plt.plot(accuracy_history)\n",
    "plt.xlabel(\"Epoch\")\n",
    "plt.ylabel(\"Accuracy\")\n",
    "plt.show()"
   ]
  },
  {
   "cell_type": "code",
   "execution_count": 12,
   "metadata": {},
   "outputs": [],
   "source": [
    "# Save model\n",
    "torch.save(model, \"saxifrage_test_maize.pth\")"
   ]
  },
  {
   "cell_type": "code",
   "execution_count": 13,
   "metadata": {},
   "outputs": [],
   "source": [
    "with open(\"crop_descriptions.pkl\", \"wb\") as f:\n",
    "    pickle.dump(pest.crop_descriptions, f)"
   ]
  },
  {
   "cell_type": "code",
   "execution_count": 14,
   "metadata": {},
   "outputs": [],
   "source": [
    "# Open a file for writing\n",
    "with open(\"index_to_name_maize.json\", \"w\") as f:\n",
    "    # Write the dictionary to the file as JSON\n",
    "    json.dump(pest.crop_descriptions[\"Maize\"], f)\n",
    "\n",
    "# json_str = json.dumps()"
   ]
  },
  {
   "cell_type": "code",
   "execution_count": 15,
   "metadata": {},
   "outputs": [
    {
     "data": {
      "text/plain": [
       "{3: 'leaf beetle',\n",
       " 2: 'healthy',\n",
       " 0: 'fall armyworm',\n",
       " 5: 'leaf spot',\n",
       " 1: 'grasshopper',\n",
       " 4: 'leaf blight',\n",
       " 6: 'streak virus'}"
      ]
     },
     "execution_count": 15,
     "metadata": {},
     "output_type": "execute_result"
    }
   ],
   "source": [
    "pest.crop_descriptions[\"Maize\"]"
   ]
  },
  {
   "cell_type": "code",
   "execution_count": null,
   "metadata": {},
   "outputs": [],
   "source": []
  }
 ],
 "metadata": {
  "kernelspec": {
   "display_name": "pest-classification-3JmtqzHf",
   "language": "python",
   "name": "python3"
  },
  "language_info": {
   "codemirror_mode": {
    "name": "ipython",
    "version": 3
   },
   "file_extension": ".py",
   "mimetype": "text/x-python",
   "name": "python",
   "nbconvert_exporter": "python",
   "pygments_lexer": "ipython3",
   "version": "3.10.12"
  }
 },
 "nbformat": 4,
 "nbformat_minor": 2
}
