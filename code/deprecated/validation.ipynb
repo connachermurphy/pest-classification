{
 "cells": [
  {
   "cell_type": "markdown",
   "metadata": {},
   "source": [
    "# validation.ipynb\n",
    "\n",
    "Validation implementation.\n",
    "\n",
    "Author: Connacher Murphy"
   ]
  },
  {
   "cell_type": "code",
   "execution_count": 23,
   "metadata": {},
   "outputs": [],
   "source": [
    "# Libraries\n",
    "import pest_classification as pest\n",
    "\n",
    "import matplotlib.pyplot as plt\n",
    "import numpy as np\n",
    "from sklearn.model_selection import StratifiedKFold\n",
    "import timm\n",
    "import torch\n",
    "import torch.optim as optim\n",
    "import torch.nn as nn\n",
    "from torch.utils.data import DataLoader\n",
    "from types import SimpleNamespace"
   ]
  },
  {
   "cell_type": "code",
   "execution_count": 24,
   "metadata": {},
   "outputs": [],
   "source": [
    "# Use a super small sample for quick testing\n",
    "quickly = False"
   ]
  },
  {
   "cell_type": "code",
   "execution_count": 25,
   "metadata": {},
   "outputs": [],
   "source": [
    "# Set random seed\n",
    "pest.set_seed(123)"
   ]
  },
  {
   "cell_type": "code",
   "execution_count": 26,
   "metadata": {},
   "outputs": [],
   "source": [
    "# Configuration\n",
    "config = SimpleNamespace(**{})\n",
    "\n",
    "# Grab training observations from images df\n",
    "df_all = pest.df\n",
    "\n",
    "if quickly:  # select small sample\n",
    "    config.total_size = 256\n",
    "    config.batch_size = 32\n",
    "    config.num_epochs = 2\n",
    "\n",
    "    df = df_all[df_all[\"set\"] == \"train\"].sample(config.total_size)\n",
    "else:  # \"full\" sample\n",
    "    config.batch_size = 512\n",
    "    config.num_epochs = 4\n",
    "\n",
    "    df = df_all[df_all[\"set\"] == \"train\"]\n",
    "\n",
    "df = df.reset_index(drop=True)"
   ]
  },
  {
   "cell_type": "code",
   "execution_count": 27,
   "metadata": {},
   "outputs": [],
   "source": [
    "# Dataset and dataloader\n",
    "# config.image_dir = os.path.expanduser(\"~/data/ccmt/CCMT Dataset-Augmented\")\n",
    "# config.image_size = 256"
   ]
  },
  {
   "cell_type": "code",
   "execution_count": 28,
   "metadata": {},
   "outputs": [],
   "source": [
    "# Add folds to the dataframe\n",
    "config.n_folds = 4\n",
    "\n",
    "skf = StratifiedKFold(n_splits=config.n_folds)\n",
    "# CM: should I add a shuffle here?\n",
    "# skf = StratifiedKFold(n_splits=config.n_folds, shuffle=True)"
   ]
  },
  {
   "cell_type": "code",
   "execution_count": 29,
   "metadata": {},
   "outputs": [],
   "source": [
    "# Partition into folds\n",
    "for fold, (train_index, val_index) in enumerate(skf.split(df, df.label)):\n",
    "    df.loc[val_index, \"fold\"] = fold"
   ]
  },
  {
   "cell_type": "code",
   "execution_count": 30,
   "metadata": {},
   "outputs": [],
   "source": [
    "# Specify architecture parameters\n",
    "config.num_classes = len(pest.crop_descriptions[\"Maize\"])\n",
    "# config.num_classes = 2\n",
    "config.backbone = \"resnet18\"\n",
    "\n",
    "# Specify optimizer parameters\n",
    "config.lr = 1e-4"
   ]
  },
  {
   "cell_type": "code",
   "execution_count": 31,
   "metadata": {},
   "outputs": [
    {
     "name": "stdout",
     "output_type": "stream",
     "text": [
      "False\n"
     ]
    }
   ],
   "source": [
    "# Select GPU if available\n",
    "print(torch.cuda.is_available())\n",
    "config.device = torch.device(\"cuda\" if torch.cuda.is_available() else \"cpu\")"
   ]
  },
  {
   "cell_type": "code",
   "execution_count": 32,
   "metadata": {},
   "outputs": [],
   "source": [
    "# Training function\n",
    "def train(train_dataloader, valid_dataloader, model, optimizer, config):\n",
    "    train_loss_history = []\n",
    "    train_accuracy_history = []\n",
    "    valid_loss_history = []\n",
    "    valid_accuracy_history = []\n",
    "\n",
    "    for epoch in range(config.num_epochs):\n",
    "        print(f\"Epoch {epoch + 1}\")\n",
    "        print(\"Training...\")\n",
    "        model, train_loss, train_accuracy, train_tab = pest.train_epoch(\n",
    "            train_dataloader, model, optimizer, config\n",
    "        )\n",
    "\n",
    "        train_loss_history.append(train_loss)\n",
    "        train_accuracy_history.append(train_accuracy)\n",
    "\n",
    "        train_tab_sum = np.sum(train_tab, axis=1, keepdims=True)\n",
    "\n",
    "        print(f\"Training: loss = {train_loss}, accuracy = {train_accuracy}\")\n",
    "        print(\"Label versus predicted label tabulation:\")\n",
    "        print(np.round(train_tab / train_tab_sum, 2))\n",
    "        print(train_tab_sum)\n",
    "        print(\"\\n\")\n",
    "\n",
    "        print(\"Validating...\")\n",
    "        valid_loss, valid_accuracy, valid_tab = pest.validate_epoch(\n",
    "            valid_dataloader, model, config\n",
    "        )\n",
    "\n",
    "        valid_loss_history.append(valid_loss)\n",
    "        valid_accuracy_history.append(valid_accuracy)\n",
    "\n",
    "        valid_tab_sum = np.sum(train_tab, axis=1, keepdims=True)\n",
    "\n",
    "        print(f\"Validation: loss = {valid_loss}, accuracy = {valid_accuracy}\")\n",
    "        print(\"Label versus predicted label tabulation:\")\n",
    "        print(np.round(valid_tab / valid_tab_sum, 2))\n",
    "        print(valid_tab_sum)\n",
    "        print(\"\\n\")\n",
    "\n",
    "    return (\n",
    "        train_loss_history,\n",
    "        train_accuracy_history,\n",
    "        valid_loss_history,\n",
    "        valid_accuracy_history,\n",
    "    )"
   ]
  },
  {
   "cell_type": "code",
   "execution_count": 33,
   "metadata": {},
   "outputs": [
    {
     "name": "stdout",
     "output_type": "stream",
     "text": [
      "Fold 0\n",
      "Epoch 1\n",
      "Training...\n"
     ]
    },
    {
     "name": "stderr",
     "output_type": "stream",
     "text": [
      "100%|██████████| 7/7 [02:45<00:00, 23.63s/it]\n"
     ]
    },
    {
     "name": "stdout",
     "output_type": "stream",
     "text": [
      "Training: loss = 1.9087098155702864, accuracy = 0.2013358778625954\n",
      "Label versus predicted label tabulation:\n",
      "[[0.19 0.06 0.05 0.   0.22 0.48 0.01]\n",
      " [0.33 0.24 0.02 0.02 0.19 0.18 0.02]\n",
      " [0.02 0.   0.13 0.   0.61 0.21 0.02]\n",
      " [0.17 0.11 0.11 0.06 0.29 0.23 0.02]\n",
      " [0.14 0.03 0.06 0.01 0.45 0.29 0.01]\n",
      " [0.12 0.01 0.19 0.   0.43 0.23 0.01]\n",
      " [0.03 0.04 0.1  0.02 0.41 0.38 0.03]]\n",
      "[[172.]\n",
      " [394.]\n",
      " [122.]\n",
      " [549.]\n",
      " [595.]\n",
      " [737.]\n",
      " [575.]]\n",
      "\n",
      "\n",
      "Validating...\n"
     ]
    },
    {
     "name": "stderr",
     "output_type": "stream",
     "text": [
      "100%|██████████| 3/3 [00:22<00:00,  7.46s/it]\n"
     ]
    },
    {
     "name": "stdout",
     "output_type": "stream",
     "text": [
      "Validation: loss = 1.9162999391555786, accuracy = 0.24236641221374045\n",
      "Label versus predicted label tabulation:\n",
      "[[0.01 0.01 0.   0.   0.05 0.28 0.  ]\n",
      " [0.06 0.08 0.   0.   0.01 0.17 0.  ]\n",
      " [0.   0.   0.01 0.   0.12 0.2  0.  ]\n",
      " [0.01 0.05 0.   0.02 0.05 0.19 0.  ]\n",
      " [0.   0.   0.01 0.   0.06 0.26 0.  ]\n",
      " [0.   0.   0.01 0.   0.09 0.23 0.  ]\n",
      " [0.   0.01 0.01 0.   0.06 0.25 0.  ]]\n",
      "[[172.]\n",
      " [394.]\n",
      " [122.]\n",
      " [549.]\n",
      " [595.]\n",
      " [737.]\n",
      " [575.]]\n",
      "\n",
      "\n",
      "Epoch 2\n",
      "Training...\n"
     ]
    },
    {
     "name": "stderr",
     "output_type": "stream",
     "text": [
      "100%|██████████| 7/7 [02:55<00:00, 25.07s/it]\n"
     ]
    },
    {
     "name": "stdout",
     "output_type": "stream",
     "text": [
      "Training: loss = 1.8368864400046212, accuracy = 0.29834605597964375\n",
      "Label versus predicted label tabulation:\n",
      "[[0.1  0.04 0.01 0.01 0.35 0.49 0.01]\n",
      " [0.11 0.32 0.01 0.07 0.19 0.27 0.03]\n",
      " [0.   0.01 0.02 0.01 0.54 0.41 0.02]\n",
      " [0.06 0.07 0.02 0.24 0.29 0.29 0.03]\n",
      " [0.01 0.   0.01 0.01 0.5  0.46 0.01]\n",
      " [0.01 0.   0.04 0.01 0.47 0.43 0.04]\n",
      " [0.   0.01 0.02 0.01 0.42 0.46 0.08]]\n",
      "[[172.]\n",
      " [394.]\n",
      " [122.]\n",
      " [549.]\n",
      " [595.]\n",
      " [737.]\n",
      " [575.]]\n",
      "\n",
      "\n",
      "Validating...\n"
     ]
    },
    {
     "name": "stderr",
     "output_type": "stream",
     "text": [
      "100%|██████████| 3/3 [00:22<00:00,  7.37s/it]\n"
     ]
    },
    {
     "name": "stdout",
     "output_type": "stream",
     "text": [
      "Validation: loss = 1.8393666744232178, accuracy = 0.32729007633587787\n",
      "Label versus predicted label tabulation:\n",
      "[[0.   0.01 0.   0.   0.03 0.29 0.  ]\n",
      " [0.01 0.15 0.   0.   0.03 0.14 0.  ]\n",
      " [0.   0.   0.   0.   0.11 0.22 0.  ]\n",
      " [0.   0.04 0.   0.05 0.06 0.18 0.  ]\n",
      " [0.   0.   0.   0.   0.1  0.23 0.  ]\n",
      " [0.   0.   0.   0.   0.08 0.25 0.  ]\n",
      " [0.   0.   0.   0.   0.09 0.22 0.02]]\n",
      "[[172.]\n",
      " [394.]\n",
      " [122.]\n",
      " [549.]\n",
      " [595.]\n",
      " [737.]\n",
      " [575.]]\n",
      "\n",
      "\n",
      "Epoch 3\n",
      "Training...\n"
     ]
    },
    {
     "name": "stderr",
     "output_type": "stream",
     "text": [
      " 29%|██▊       | 2/7 [00:58<02:27, 29.55s/it]"
     ]
    },
    {
     "ename": "",
     "evalue": "",
     "output_type": "error",
     "traceback": [
      "\u001b[1;31mThe Kernel crashed while executing code in the current cell or a previous cell. \n",
      "\u001b[1;31mPlease review the code in the cell(s) to identify a possible cause of the failure. \n",
      "\u001b[1;31mClick <a href='https://aka.ms/vscodeJupyterKernelCrash'>here</a> for more info. \n",
      "\u001b[1;31mView Jupyter <a href='command:jupyter.viewOutput'>log</a> for further details."
     ]
    }
   ],
   "source": [
    "for fold in range(config.n_folds):\n",
    "    print(f\"Fold {fold}\")\n",
    "\n",
    "    # Split into training and validation sets\n",
    "    train_df = df[df[\"fold\"] != fold].reset_index(drop=True)\n",
    "    valid_df = df[df[\"fold\"] == fold].reset_index(drop=True)\n",
    "\n",
    "    train_dataset = pest.AugmentedCCMT(config, train_df, transform=pest.transform_train)\n",
    "    valid_dataset = pest.AugmentedCCMT(config, valid_df)\n",
    "\n",
    "    # Dataloaders\n",
    "    train_dataloader = DataLoader(\n",
    "        train_dataset,\n",
    "        batch_size=config.batch_size,\n",
    "        shuffle=True,\n",
    "        num_workers=0,\n",
    "    )\n",
    "    valid_dataloader = DataLoader(\n",
    "        valid_dataset,\n",
    "        batch_size=config.batch_size,\n",
    "        shuffle=False,\n",
    "        num_workers=0,\n",
    "    )\n",
    "\n",
    "    # Initialize (pre-trained) model\n",
    "    model = timm.create_model(\n",
    "        config.backbone, pretrained=True, num_classes=config.num_classes\n",
    "    )\n",
    "    model.to(config.device)\n",
    "\n",
    "    # Specify loss function (CM: move this to outer loop?)\n",
    "    config.criterion = nn.CrossEntropyLoss()\n",
    "\n",
    "    # Initialize optimizer\n",
    "    optimizer = optim.Adam(model.parameters(), lr=config.lr, weight_decay=0.0)\n",
    "\n",
    "    # Call training function\n",
    "    (\n",
    "        train_loss_history,\n",
    "        train_accuracy_history,\n",
    "        valid_loss_history,\n",
    "        valid_accuracy_history,\n",
    "    ) = train(train_dataloader, valid_dataloader, model, optimizer, config)\n",
    "\n",
    "    plt.plot(train_loss_history, label=\"Training\")\n",
    "    plt.plot(valid_loss_history, label=\"Validation\")\n",
    "    plt.xlabel(\"Epoch\")\n",
    "    plt.ylabel(\"Loss\")\n",
    "    plt.legend()\n",
    "    plt.show()\n",
    "\n",
    "    plt.plot(train_accuracy_history, label=\"Training\")\n",
    "    plt.plot(valid_accuracy_history, label=\"Validation\")\n",
    "    plt.xlabel(\"Epoch\")\n",
    "    plt.ylabel(\"Accuracy\")\n",
    "    plt.legend()\n",
    "    plt.show()\n",
    "\n",
    "    print(\"\\n\")"
   ]
  },
  {
   "cell_type": "code",
   "execution_count": null,
   "metadata": {},
   "outputs": [],
   "source": []
  }
 ],
 "metadata": {
  "kernelspec": {
   "display_name": "pest-classification-3JmtqzHf",
   "language": "python",
   "name": "python3"
  },
  "language_info": {
   "codemirror_mode": {
    "name": "ipython",
    "version": 3
   },
   "file_extension": ".py",
   "mimetype": "text/x-python",
   "name": "python",
   "nbconvert_exporter": "python",
   "pygments_lexer": "ipython3",
   "version": "3.10.12"
  }
 },
 "nbformat": 4,
 "nbformat_minor": 2
}
