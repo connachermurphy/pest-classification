{
 "cells": [
  {
   "cell_type": "markdown",
   "metadata": {},
   "source": [
    "# validation.ipynb\n",
    "\n",
    "Validation implementation.\n",
    "\n",
    "Author: Connacher Murphy"
   ]
  },
  {
   "cell_type": "code",
   "execution_count": 1,
   "metadata": {},
   "outputs": [],
   "source": [
    "# Libraries\n",
    "import pest_classification as pest\n",
    "\n",
    "import numpy as np\n",
    "import os\n",
    "import random\n",
    "from sklearn.model_selection import StratifiedKFold\n",
    "import timm\n",
    "import torch\n",
    "import torch.optim as optim\n",
    "import torch.nn as nn\n",
    "from torch.utils.data import DataLoader\n",
    "from types import SimpleNamespace"
   ]
  },
  {
   "cell_type": "code",
   "execution_count": 2,
   "metadata": {},
   "outputs": [],
   "source": [
    "def set_seed(seed=1234):\n",
    "    random.seed(seed)\n",
    "    os.environ[\"PYTHONHASHSEED\"] = str(seed)\n",
    "    np.random.seed(seed)\n",
    "    \n",
    "    # PyTorch seed\n",
    "    torch.manual_seed(seed)\n",
    "    \n",
    "    # CUDA 1 GPU seed\n",
    "    torch.cuda.manual_seed(seed)\n",
    "    \n",
    "    # CUDA multi-GPU seed\n",
    "    torch.cuda.manual_seed_all(seed)\n",
    "    \n",
    "    # Force deterministic operations in cudnn\n",
    "    torch.backends.cudnn.deterministic = True \n",
    "    \n",
    "    # Disable cudnn auto-tuner\n",
    "    torch.backends.cudnn.benchmark = False"
   ]
  },
  {
   "cell_type": "code",
   "execution_count": 3,
   "metadata": {},
   "outputs": [],
   "source": [
    "# Set random seed\n",
    "set_seed(123)"
   ]
  },
  {
   "cell_type": "code",
   "execution_count": 4,
   "metadata": {},
   "outputs": [],
   "source": [
    "# Grab training observations from images df\n",
    "# CM: sampling to speed up execution\n",
    "df_all = pest.df\n",
    "df = df_all[df_all[\"set\"] == \"train_set\"].sample(2048)\n",
    "df = df.reset_index(drop=True)"
   ]
  },
  {
   "cell_type": "code",
   "execution_count": 5,
   "metadata": {},
   "outputs": [],
   "source": [
    "# Dataset and dataloader\n",
    "config = SimpleNamespace(**{})\n",
    "\n",
    "config.batch_size = 64\n",
    "\n",
    "config.image_dir = os.path.expanduser(\"~/data/ccmt/CCMT Dataset-Augmented\")\n",
    "config.image_size = 256"
   ]
  },
  {
   "cell_type": "code",
   "execution_count": 6,
   "metadata": {},
   "outputs": [],
   "source": [
    "# Add folds to the dataframe\n",
    "config.n_folds = 4\n",
    "\n",
    "skf = StratifiedKFold(n_splits=config.n_folds)\n",
    "# CM: should I add a shuffle here?\n",
    "# skf = StratifiedKFold(n_splits=config.n_folds, shuffle=True)"
   ]
  },
  {
   "cell_type": "code",
   "execution_count": 7,
   "metadata": {},
   "outputs": [],
   "source": [
    "# Partition into folds\n",
    "for fold, (train_index, val_index) in enumerate(skf.split(df, df.label)):\n",
    "    df.loc[val_index, \"fold\"] = fold"
   ]
  },
  {
   "cell_type": "code",
   "execution_count": 8,
   "metadata": {},
   "outputs": [],
   "source": [
    "# Specify architecture parameters\n",
    "config.num_classes = len(pest.crop_descriptions[\"Maize\"])\n",
    "# config.num_classes = 2\n",
    "config.backbone = \"resnet18\"\n",
    "\n",
    "# Specify optimizer parameters\n",
    "config.lr = 1e-4\n",
    "config.num_epochs = 3"
   ]
  },
  {
   "cell_type": "code",
   "execution_count": 9,
   "metadata": {},
   "outputs": [
    {
     "name": "stdout",
     "output_type": "stream",
     "text": [
      "False\n"
     ]
    }
   ],
   "source": [
    "# Select GPU if available\n",
    "print(torch.cuda.is_available())\n",
    "config.device = torch.device(\"cuda\" if torch.cuda.is_available() else \"cpu\")"
   ]
  },
  {
   "cell_type": "code",
   "execution_count": 10,
   "metadata": {},
   "outputs": [],
   "source": [
    "# Training function\n",
    "def train(train_dataloader, valid_dataloader, model, optimizer, config):\n",
    "    for epoch in range(config.num_epochs):\n",
    "        print(f\"Epoch {epoch + 1}\")\n",
    "        print(\"Training...\")\n",
    "        train_loss, train_accuracy = pest.train_epoch(\n",
    "            train_dataloader, model, optimizer, config\n",
    "        )\n",
    "        print(f\"Training: loss = {train_loss}, accuracy = {train_accuracy}\")\n",
    "        print(\"Validating...\")\n",
    "        valid_loss, valid_accuracy = pest.validate_epoch(\n",
    "            valid_dataloader, model, config\n",
    "        )\n",
    "        print(f\"Validation: loss = {valid_loss}, accuracy = {valid_accuracy}\")"
   ]
  },
  {
   "cell_type": "code",
   "execution_count": 11,
   "metadata": {},
   "outputs": [
    {
     "name": "stdout",
     "output_type": "stream",
     "text": [
      "Fold 0\n",
      "Epoch 1\n",
      "Training...\n"
     ]
    },
    {
     "name": "stderr",
     "output_type": "stream",
     "text": [
      "100%|██████████| 24/24 [02:17<00:00,  5.73s/it]\n"
     ]
    },
    {
     "name": "stdout",
     "output_type": "stream",
     "text": [
      "Training: loss = 1.8868432343006134, accuracy = 0.2623697916666667\n",
      "Validating...\n"
     ]
    },
    {
     "name": "stderr",
     "output_type": "stream",
     "text": [
      "100%|██████████| 8/8 [00:20<00:00,  2.57s/it]\n"
     ]
    },
    {
     "name": "stdout",
     "output_type": "stream",
     "text": [
      "Validation: loss = 1.8210224360227585, accuracy = 0.369140625\n",
      "Epoch 2\n",
      "Training...\n"
     ]
    },
    {
     "name": "stderr",
     "output_type": "stream",
     "text": [
      "100%|██████████| 24/24 [02:24<00:00,  6.01s/it]\n"
     ]
    },
    {
     "name": "stdout",
     "output_type": "stream",
     "text": [
      "Training: loss = 1.7134468307097752, accuracy = 0.4733072916666667\n",
      "Validating...\n"
     ]
    },
    {
     "name": "stderr",
     "output_type": "stream",
     "text": [
      "100%|██████████| 8/8 [00:21<00:00,  2.70s/it]\n"
     ]
    },
    {
     "name": "stdout",
     "output_type": "stream",
     "text": [
      "Validation: loss = 1.673723429441452, accuracy = 0.490234375\n",
      "Epoch 3\n",
      "Training...\n"
     ]
    },
    {
     "name": "stderr",
     "output_type": "stream",
     "text": [
      "100%|██████████| 24/24 [02:22<00:00,  5.92s/it]\n"
     ]
    },
    {
     "name": "stdout",
     "output_type": "stream",
     "text": [
      "Training: loss = 1.5364590187867482, accuracy = 0.6145833333333334\n",
      "Validating...\n"
     ]
    },
    {
     "name": "stderr",
     "output_type": "stream",
     "text": [
      "100%|██████████| 8/8 [00:20<00:00,  2.51s/it]\n"
     ]
    },
    {
     "name": "stdout",
     "output_type": "stream",
     "text": [
      "Validation: loss = 1.5050919651985168, accuracy = 0.59375\n",
      "\n",
      "\n",
      "Fold 1\n",
      "Epoch 1\n",
      "Training...\n"
     ]
    },
    {
     "name": "stderr",
     "output_type": "stream",
     "text": [
      "100%|██████████| 24/24 [02:20<00:00,  5.87s/it]\n"
     ]
    },
    {
     "name": "stdout",
     "output_type": "stream",
     "text": [
      "Training: loss = 1.8774902919928234, accuracy = 0.21744791666666666\n",
      "Validating...\n"
     ]
    },
    {
     "name": "stderr",
     "output_type": "stream",
     "text": [
      "100%|██████████| 8/8 [00:21<00:00,  2.67s/it]\n"
     ]
    },
    {
     "name": "stdout",
     "output_type": "stream",
     "text": [
      "Validation: loss = 1.8276771903038025, accuracy = 0.318359375\n",
      "Epoch 2\n",
      "Training...\n"
     ]
    },
    {
     "name": "stderr",
     "output_type": "stream",
     "text": [
      "100%|██████████| 24/24 [02:25<00:00,  6.05s/it]\n"
     ]
    },
    {
     "name": "stdout",
     "output_type": "stream",
     "text": [
      "Training: loss = 1.7094217538833618, accuracy = 0.5182291666666666\n",
      "Validating...\n"
     ]
    },
    {
     "name": "stderr",
     "output_type": "stream",
     "text": [
      "100%|██████████| 8/8 [00:20<00:00,  2.56s/it]\n"
     ]
    },
    {
     "name": "stdout",
     "output_type": "stream",
     "text": [
      "Validation: loss = 1.666611298918724, accuracy = 0.537109375\n",
      "Epoch 3\n",
      "Training...\n"
     ]
    },
    {
     "name": "stderr",
     "output_type": "stream",
     "text": [
      "100%|██████████| 24/24 [02:21<00:00,  5.88s/it]\n"
     ]
    },
    {
     "name": "stdout",
     "output_type": "stream",
     "text": [
      "Training: loss = 1.5361276715993881, accuracy = 0.6178385416666666\n",
      "Validating...\n"
     ]
    },
    {
     "name": "stderr",
     "output_type": "stream",
     "text": [
      "100%|██████████| 8/8 [00:21<00:00,  2.69s/it]\n"
     ]
    },
    {
     "name": "stdout",
     "output_type": "stream",
     "text": [
      "Validation: loss = 1.4800017476081848, accuracy = 0.607421875\n",
      "\n",
      "\n",
      "Fold 2\n",
      "Epoch 1\n",
      "Training...\n"
     ]
    },
    {
     "name": "stderr",
     "output_type": "stream",
     "text": [
      "100%|██████████| 24/24 [02:23<00:00,  5.98s/it]\n"
     ]
    },
    {
     "name": "stdout",
     "output_type": "stream",
     "text": [
      "Training: loss = 1.871143102645874, accuracy = 0.23372395833333334\n",
      "Validating...\n"
     ]
    },
    {
     "name": "stderr",
     "output_type": "stream",
     "text": [
      "100%|██████████| 8/8 [00:22<00:00,  2.76s/it]\n"
     ]
    },
    {
     "name": "stdout",
     "output_type": "stream",
     "text": [
      "Validation: loss = 1.8166229575872421, accuracy = 0.296875\n",
      "Epoch 2\n",
      "Training...\n"
     ]
    },
    {
     "name": "stderr",
     "output_type": "stream",
     "text": [
      "100%|██████████| 24/24 [02:31<00:00,  6.32s/it]\n"
     ]
    },
    {
     "name": "stdout",
     "output_type": "stream",
     "text": [
      "Training: loss = 1.7121340582768123, accuracy = 0.4055989583333333\n",
      "Validating...\n"
     ]
    },
    {
     "name": "stderr",
     "output_type": "stream",
     "text": [
      "100%|██████████| 8/8 [00:21<00:00,  2.74s/it]\n"
     ]
    },
    {
     "name": "stdout",
     "output_type": "stream",
     "text": [
      "Validation: loss = 1.682903677225113, accuracy = 0.44140625\n",
      "Epoch 3\n",
      "Training...\n"
     ]
    },
    {
     "name": "stderr",
     "output_type": "stream",
     "text": [
      "100%|██████████| 24/24 [02:19<00:00,  5.83s/it]\n"
     ]
    },
    {
     "name": "stdout",
     "output_type": "stream",
     "text": [
      "Training: loss = 1.552189568678538, accuracy = 0.5078125\n",
      "Validating...\n"
     ]
    },
    {
     "name": "stderr",
     "output_type": "stream",
     "text": [
      "100%|██████████| 8/8 [00:21<00:00,  2.75s/it]\n"
     ]
    },
    {
     "name": "stdout",
     "output_type": "stream",
     "text": [
      "Validation: loss = 1.5244200676679611, accuracy = 0.521484375\n",
      "\n",
      "\n",
      "Fold 3\n",
      "Epoch 1\n",
      "Training...\n"
     ]
    },
    {
     "name": "stderr",
     "output_type": "stream",
     "text": [
      "100%|██████████| 24/24 [02:36<00:00,  6.52s/it]\n"
     ]
    },
    {
     "name": "stdout",
     "output_type": "stream",
     "text": [
      "Training: loss = 1.8569064438343048, accuracy = 0.2923177083333333\n",
      "Validating...\n"
     ]
    },
    {
     "name": "stderr",
     "output_type": "stream",
     "text": [
      "100%|██████████| 8/8 [00:22<00:00,  2.79s/it]\n"
     ]
    },
    {
     "name": "stdout",
     "output_type": "stream",
     "text": [
      "Validation: loss = 1.7934908866882324, accuracy = 0.341796875\n",
      "Epoch 2\n",
      "Training...\n"
     ]
    },
    {
     "name": "stderr",
     "output_type": "stream",
     "text": [
      "100%|██████████| 24/24 [02:31<00:00,  6.32s/it]\n"
     ]
    },
    {
     "name": "stdout",
     "output_type": "stream",
     "text": [
      "Training: loss = 1.6922105153401692, accuracy = 0.482421875\n",
      "Validating...\n"
     ]
    },
    {
     "name": "stderr",
     "output_type": "stream",
     "text": [
      "100%|██████████| 8/8 [00:23<00:00,  2.91s/it]\n"
     ]
    },
    {
     "name": "stdout",
     "output_type": "stream",
     "text": [
      "Validation: loss = 1.6438549309968948, accuracy = 0.53125\n",
      "Epoch 3\n",
      "Training...\n"
     ]
    },
    {
     "name": "stderr",
     "output_type": "stream",
     "text": [
      "100%|██████████| 24/24 [02:30<00:00,  6.26s/it]\n"
     ]
    },
    {
     "name": "stdout",
     "output_type": "stream",
     "text": [
      "Training: loss = 1.5218107501665752, accuracy = 0.6061197916666666\n",
      "Validating...\n"
     ]
    },
    {
     "name": "stderr",
     "output_type": "stream",
     "text": [
      "100%|██████████| 8/8 [00:21<00:00,  2.75s/it]"
     ]
    },
    {
     "name": "stdout",
     "output_type": "stream",
     "text": [
      "Validation: loss = 1.4486368894577026, accuracy = 0.619140625\n",
      "\n",
      "\n"
     ]
    },
    {
     "name": "stderr",
     "output_type": "stream",
     "text": [
      "\n"
     ]
    }
   ],
   "source": [
    "for fold in range(config.n_folds):\n",
    "    print(f\"Fold {fold}\")\n",
    "\n",
    "    # Split into training and validation sets\n",
    "    train_df = df[df[\"fold\"] != fold].reset_index(drop=True)\n",
    "    valid_df = df[df[\"fold\"] == fold].reset_index(drop=True)\n",
    "\n",
    "    train_dataset = pest.AugmentedCCMT(config, train_df)\n",
    "    valid_dataset = pest.AugmentedCCMT(config, valid_df)\n",
    "\n",
    "    # Dataloaders\n",
    "    train_dataloader = DataLoader(\n",
    "        train_dataset, batch_size=config.batch_size, shuffle=True, num_workers=0\n",
    "    )\n",
    "    valid_dataloader = DataLoader(\n",
    "        valid_dataset, batch_size=config.batch_size, shuffle=False, num_workers=0\n",
    "    )\n",
    "\n",
    "    # Initialize (pre-trained) model\n",
    "    model = timm.create_model(\n",
    "        config.backbone, pretrained=True, num_classes=config.num_classes\n",
    "    )\n",
    "    model.to(config.device)\n",
    "\n",
    "    # Specify loss function (CM: move this to outer loop?)\n",
    "    config.criterion = nn.CrossEntropyLoss()\n",
    "\n",
    "    # Initialize optimizer\n",
    "    optimizer = optim.Adam(model.parameters(), lr=config.lr, weight_decay=0.0)\n",
    "\n",
    "    # Call training function\n",
    "    train(train_dataloader, valid_dataloader, model, optimizer, config)\n",
    "\n",
    "    print(\"\\n\")\n",
    "    "
   ]
  },
  {
   "cell_type": "code",
   "execution_count": null,
   "metadata": {},
   "outputs": [],
   "source": []
  }
 ],
 "metadata": {
  "kernelspec": {
   "display_name": "pest-classification-3JmtqzHf",
   "language": "python",
   "name": "python3"
  },
  "language_info": {
   "codemirror_mode": {
    "name": "ipython",
    "version": 3
   },
   "file_extension": ".py",
   "mimetype": "text/x-python",
   "name": "python",
   "nbconvert_exporter": "python",
   "pygments_lexer": "ipython3",
   "version": "3.10.13"
  }
 },
 "nbformat": 4,
 "nbformat_minor": 2
}
